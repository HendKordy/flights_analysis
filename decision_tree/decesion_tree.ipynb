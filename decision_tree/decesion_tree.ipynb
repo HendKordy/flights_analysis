{
 "cells": [
  {
   "cell_type": "code",
   "execution_count": null,
   "metadata": {},
   "outputs": [],
   "source": [
    "!pip install pydotplus"
   ]
  },
  {
   "cell_type": "code",
   "execution_count": null,
   "metadata": {},
   "outputs": [],
   "source": [
    "!pip install graphviz"
   ]
  },
  {
   "cell_type": "code",
   "execution_count": 41,
   "metadata": {},
   "outputs": [],
   "source": [
    "import pandas as pd\n",
    "import numpy as np\n",
    "from sklearn.model_selection import KFold\n",
    "from sklearn.model_selection import cross_val_score\n",
    "from sklearn.tree import DecisionTreeRegressor\n",
    "from sklearn.model_selection import train_test_split\n",
    "from sklearn.tree import plot_tree\n",
    "from sklearn import tree\n",
    "import pydotplus\n",
    "from IPython.display import Image\n",
    "\n"
   ]
  },
  {
   "cell_type": "code",
   "execution_count": 5,
   "metadata": {},
   "outputs": [],
   "source": [
    "df = pd.read_csv('./dt_encoded.csv')"
   ]
  },
  {
   "cell_type": "code",
   "execution_count": 23,
   "metadata": {},
   "outputs": [
    {
     "data": {
      "text/plain": [
       "Index(['journey_month', 'journey_day', 'dep_hour', 'dep_min', 'Arrival_hour',\n",
       "       'Arrival_min', 'Arrived_next_day', 'Duration_in_mins', 'price',\n",
       "       'Air Asia', 'Air India', 'GoAir', 'IndiGo', 'Jet Airways',\n",
       "       'Jet Airways Business', 'Multiple carriers',\n",
       "       'Multiple carriers Premium economy', 'SpiceJet', 'Trujet', 'Vistara',\n",
       "       'Vistara Premium economy', 'destination_Banglore', 'destination_Cochin',\n",
       "       'destination_Delhi', 'destination_Hyderabad', 'destination_Kolkata',\n",
       "       'source_Banglore', 'source_Chennai', 'source_Delhi', 'source_Kolkata',\n",
       "       'source_Mumbai', '1 stop', '2 stops', '3 stops', '4 stops', 'non-stop',\n",
       "       'departure_After noon', 'departure_early morning', 'departure_evening',\n",
       "       'departure_late night', 'departure_morning', 'departure_night',\n",
       "       'arrival_After noon', 'arrival_early morning', 'arrival_evening',\n",
       "       'arrival_late night', 'arrival_morning', 'arrival_night', 'Monday',\n",
       "       'Tuesday', 'Wednesday', 'Thursday', 'Friday', 'Saturday', 'Sunday'],\n",
       "      dtype='object')"
      ]
     },
     "execution_count": 23,
     "metadata": {},
     "output_type": "execute_result"
    }
   ],
   "source": [
    "df.columns"
   ]
  },
  {
   "cell_type": "code",
   "execution_count": 8,
   "metadata": {},
   "outputs": [],
   "source": [
    "# create train/test split\n",
    "train, test = train_test_split(df, train_size=0.7, random_state = 123)\n",
    "# separate features and target\n",
    "X_train = train.drop(\"price\", axis = 1)\n",
    "y_train = train[[\"price\"]]"
   ]
  },
  {
   "cell_type": "markdown",
   "metadata": {},
   "source": [
    "### Create Decision tree based on:\n",
    "1- Departure\n",
    "2- Destination \n",
    "3- airline"
   ]
  },
  {
   "cell_type": "code",
   "execution_count": 32,
   "metadata": {},
   "outputs": [],
   "source": [
    "#create model object\n",
    "dt_mod = DecisionTreeRegressor(max_depth=3)\n",
    "\n",
    "dt_target_names = 'price'\n",
    "dt_feature_names = ['destination_Banglore',\n",
    "       'destination_Cochin', 'destination_Delhi', 'destination_Hyderabad',\n",
    "       'destination_Kolkata','source_Banglore', 'source_Chennai',\n",
    "       'source_Delhi', 'source_Kolkata', 'source_Mumbai', 'Air Asia', 'Air India', 'GoAir', 'IndiGo', 'Jet Airways',\n",
    "       'Jet Airways Business', 'Multiple carriers',\n",
    "       'Multiple carriers Premium economy', 'SpiceJet', 'Trujet', 'Vistara',\n",
    "       'Vistara Premium economy']\n",
    "\n",
    "\n",
    "#fit/train model using \n",
    "dt_fit = dt_mod.fit(X_train[[str(s) for s in dt_feature_names]], y_train)\n",
    "\n"
   ]
  },
  {
   "cell_type": "code",
   "execution_count": 33,
   "metadata": {},
   "outputs": [
    {
     "data": {
      "text/plain": [
       "7"
      ]
     },
     "execution_count": 33,
     "metadata": {},
     "output_type": "execute_result"
    }
   ],
   "source": [
    "dt_fit.get_n_leaves()"
   ]
  },
  {
   "cell_type": "code",
   "execution_count": 42,
   "metadata": {},
   "outputs": [
    {
     "ename": "InvocationException",
     "evalue": "GraphViz's executables not found",
     "output_type": "error",
     "traceback": [
      "\u001b[0;31m---------------------------------------------------------------------------\u001b[0m",
      "\u001b[0;31mInvocationException\u001b[0m                       Traceback (most recent call last)",
      "\u001b[0;32m/tmp/ipykernel_41024/2067510465.py\u001b[0m in \u001b[0;36m<module>\u001b[0;34m\u001b[0m\n\u001b[1;32m      3\u001b[0m     filled=True)  \n\u001b[1;32m      4\u001b[0m \u001b[0mgraph\u001b[0m \u001b[0;34m=\u001b[0m \u001b[0mpydotplus\u001b[0m\u001b[0;34m.\u001b[0m\u001b[0mgraph_from_dot_file\u001b[0m\u001b[0;34m(\u001b[0m\u001b[0;34m'tree.dot'\u001b[0m\u001b[0;34m)\u001b[0m\u001b[0;34m\u001b[0m\u001b[0;34m\u001b[0m\u001b[0m\n\u001b[0;32m----> 5\u001b[0;31m \u001b[0mImage\u001b[0m\u001b[0;34m(\u001b[0m\u001b[0mgraph\u001b[0m\u001b[0;34m.\u001b[0m\u001b[0mcreate_png\u001b[0m\u001b[0;34m(\u001b[0m\u001b[0;34m)\u001b[0m\u001b[0;34m)\u001b[0m\u001b[0;34m\u001b[0m\u001b[0;34m\u001b[0m\u001b[0m\n\u001b[0m",
      "\u001b[0;32m/opt/conda/lib/python3.9/site-packages/pydotplus/graphviz.py\u001b[0m in \u001b[0;36m<lambda>\u001b[0;34m(f, prog)\u001b[0m\n\u001b[1;32m   1795\u001b[0m             self.__setattr__(\n\u001b[1;32m   1796\u001b[0m                 \u001b[0;34m'create_'\u001b[0m \u001b[0;34m+\u001b[0m \u001b[0mfrmt\u001b[0m\u001b[0;34m,\u001b[0m\u001b[0;34m\u001b[0m\u001b[0;34m\u001b[0m\u001b[0m\n\u001b[0;32m-> 1797\u001b[0;31m                 \u001b[0;32mlambda\u001b[0m \u001b[0mf\u001b[0m\u001b[0;34m=\u001b[0m\u001b[0mfrmt\u001b[0m\u001b[0;34m,\u001b[0m \u001b[0mprog\u001b[0m\u001b[0;34m=\u001b[0m\u001b[0mself\u001b[0m\u001b[0;34m.\u001b[0m\u001b[0mprog\u001b[0m\u001b[0;34m:\u001b[0m \u001b[0mself\u001b[0m\u001b[0;34m.\u001b[0m\u001b[0mcreate\u001b[0m\u001b[0;34m(\u001b[0m\u001b[0mformat\u001b[0m\u001b[0;34m=\u001b[0m\u001b[0mf\u001b[0m\u001b[0;34m,\u001b[0m \u001b[0mprog\u001b[0m\u001b[0;34m=\u001b[0m\u001b[0mprog\u001b[0m\u001b[0;34m)\u001b[0m\u001b[0;34m\u001b[0m\u001b[0;34m\u001b[0m\u001b[0m\n\u001b[0m\u001b[1;32m   1798\u001b[0m             )\n\u001b[1;32m   1799\u001b[0m             \u001b[0mf\u001b[0m \u001b[0;34m=\u001b[0m \u001b[0mself\u001b[0m\u001b[0;34m.\u001b[0m\u001b[0m__dict__\u001b[0m\u001b[0;34m[\u001b[0m\u001b[0;34m'create_'\u001b[0m \u001b[0;34m+\u001b[0m \u001b[0mfrmt\u001b[0m\u001b[0;34m]\u001b[0m\u001b[0;34m\u001b[0m\u001b[0;34m\u001b[0m\u001b[0m\n",
      "\u001b[0;32m/opt/conda/lib/python3.9/site-packages/pydotplus/graphviz.py\u001b[0m in \u001b[0;36mcreate\u001b[0;34m(self, prog, format)\u001b[0m\n\u001b[1;32m   1957\u001b[0m             \u001b[0mself\u001b[0m\u001b[0;34m.\u001b[0m\u001b[0mprogs\u001b[0m \u001b[0;34m=\u001b[0m \u001b[0mfind_graphviz\u001b[0m\u001b[0;34m(\u001b[0m\u001b[0;34m)\u001b[0m\u001b[0;34m\u001b[0m\u001b[0;34m\u001b[0m\u001b[0m\n\u001b[1;32m   1958\u001b[0m             \u001b[0;32mif\u001b[0m \u001b[0mself\u001b[0m\u001b[0;34m.\u001b[0m\u001b[0mprogs\u001b[0m \u001b[0;32mis\u001b[0m \u001b[0;32mNone\u001b[0m\u001b[0;34m:\u001b[0m\u001b[0;34m\u001b[0m\u001b[0;34m\u001b[0m\u001b[0m\n\u001b[0;32m-> 1959\u001b[0;31m                 raise InvocationException(\n\u001b[0m\u001b[1;32m   1960\u001b[0m                     'GraphViz\\'s executables not found')\n\u001b[1;32m   1961\u001b[0m \u001b[0;34m\u001b[0m\u001b[0m\n",
      "\u001b[0;31mInvocationException\u001b[0m: GraphViz's executables not found"
     ]
    }
   ],
   "source": [
    "tree.export_graphviz(dt_fit, out_file='tree.dot', \n",
    "    feature_names=dt_feature_names, class_names=dt_target_names,\n",
    "    filled=True)  \n",
    "graph = pydotplus.graph_from_dot_file('tree.dot')\n",
    "Image(graph.create_png())"
   ]
  },
  {
   "cell_type": "code",
   "execution_count": null,
   "metadata": {},
   "outputs": [],
   "source": []
  },
  {
   "cell_type": "code",
   "execution_count": 11,
   "metadata": {},
   "outputs": [],
   "source": [
    "tree.export_graphviz(dt_mod,\n",
    "                     out_file=\"tree.dot\",\n",
    "                     feature_names = ['destination_Banglore',\n",
    "       'destination_Cochin', 'destination_Delhi', 'destination_Hyderabad',\n",
    "       'destination_Kolkata','source_Banglore', 'source_Chennai',\n",
    "       'source_Delhi', 'source_Kolkata', 'source_Mumbai' ], \n",
    "                     class_names=['price'],\n",
    "                     filled = True)"
   ]
  },
  {
   "cell_type": "code",
   "execution_count": 12,
   "metadata": {},
   "outputs": [
    {
     "data": {
      "text/plain": [
       "[Text(223.20000000000002, 190.26, 'source_Delhi <= 0.5\\nmse = 22441092.045\\nsamples = 7323\\nvalue = 9039.892'),\n",
       " Text(167.4, 135.9, 'source_Mumbai <= 0.5\\nmse = 25301985.318\\nsamples = 4312\\nvalue = 8054.385'),\n",
       " Text(111.60000000000001, 81.53999999999999, 'source_Chennai <= 0.5\\nmse = 25037827.925\\nsamples = 3812\\nvalue = 8458.503'),\n",
       " Text(55.800000000000004, 27.180000000000007, 'mse = 25471418.796\\nsamples = 3551\\nvalue = 8725.919'),\n",
       " Text(167.4, 27.180000000000007, 'mse = 4928471.163\\nsamples = 261\\nvalue = 4820.199'),\n",
       " Text(223.20000000000002, 81.53999999999999, 'mse = 16578332.275\\nsamples = 500\\nvalue = 4973.394'),\n",
       " Text(279.0, 135.9, 'mse = 14961339.595\\nsamples = 3011\\nvalue = 10451.22')]"
      ]
     },
     "execution_count": 12,
     "metadata": {},
     "output_type": "execute_result"
    },
    {
     "data": {
      "image/png": "[encoded data removed]",
      "text/plain": [
       "<Figure size 432x288 with 1 Axes>"
      ]
     },
     "metadata": {
      "needs_background": "light"
     },
     "output_type": "display_data"
    }
   ],
   "source": [
    "tree.plot_tree(dt_fit, feature_names = ['destination_Banglore',\n",
    "       'destination_Cochin', 'destination_Delhi', 'destination_Hyderabad',\n",
    "       'destination_Kolkata','source_Banglore', 'source_Chennai',\n",
    "       'source_Delhi', 'source_Kolkata', 'source_Mumbai' ])"
   ]
  },
  {
   "cell_type": "code",
   "execution_count": 13,
   "metadata": {},
   "outputs": [],
   "source": [
    "#create model object \n",
    "dt_mod = DecisionTreeRegressor(max_depth=3)\n",
    "loss = 'neg_root_mean_squared_error'\n",
    "\n",
    "kfold = KFold(n_splits = 5, random_state = 123, shuffle = True)\n",
    "results = cross_val_score(dt_mod, X_train[['destination_Banglore',\n",
    "       'destination_Cochin', 'destination_Delhi', 'destination_Hyderabad',\n",
    "       'destination_Kolkata','source_Banglore', 'source_Chennai',\n",
    "       'source_Delhi', 'source_Kolkata', 'source_Mumbai' ]], y_train, cv=kfold, scoring = loss)\n",
    "\n",
    "dt_results_max3 = np.round(np.abs(results))"
   ]
  },
  {
   "cell_type": "code",
   "execution_count": 14,
   "metadata": {},
   "outputs": [],
   "source": [
    "#create model object \n",
    "dt_mod = DecisionTreeRegressor()\n",
    "loss = 'neg_root_mean_squared_error'\n",
    "\n",
    "kfold = KFold(n_splits = 5, random_state = 123, shuffle = True)\n",
    "results = cross_val_score(dt_mod, X_train[['destination_Banglore',\n",
    "       'destination_Cochin', 'destination_Delhi', 'destination_Hyderabad',\n",
    "       'destination_Kolkata','source_Banglore', 'source_Chennai',\n",
    "       'source_Delhi', 'source_Kolkata', 'source_Mumbai' ]], y_train, cv=kfold, scoring = loss)\n",
    "\n",
    "dt_results_no_limit = np.round(np.abs(results))"
   ]
  },
  {
   "cell_type": "code",
   "execution_count": 20,
   "metadata": {},
   "outputs": [],
   "source": [
    "#create model object \n",
    "dt_mod = DecisionTreeRegressor()\n",
    "loss = 'neg_root_mean_squared_error'\n",
    "\n",
    "kfold = KFold(n_splits = 5, random_state = 123, shuffle = True)\n",
    "results = cross_val_score(dt_mod, X_train, y_train, cv=kfold, scoring = loss)\n",
    "\n",
    "dt_results_all_columns = np.round(np.abs(results))\n",
    "\n"
   ]
  },
  {
   "cell_type": "code",
   "execution_count": 21,
   "metadata": {},
   "outputs": [
    {
     "data": {
      "text/plain": [
       "array([2818., 2663., 2661., 3173., 2950.])"
      ]
     },
     "execution_count": 21,
     "metadata": {},
     "output_type": "execute_result"
    }
   ],
   "source": [
    "dt_results_all_columns"
   ]
  },
  {
   "cell_type": "code",
   "execution_count": null,
   "metadata": {},
   "outputs": [],
   "source": []
  }
 ],
 "metadata": {
  "interpreter": {
   "hash": "d4d1e4263499bec80672ea0156c357c1ee493ec2b1c70f0acce89fc37c4a6abe"
  },
  "kernelspec": {
   "display_name": "Python 3.9.7 ('base')",
   "language": "python",
   "name": "python3"
  },
  "language_info": {
   "codemirror_mode": {
    "name": "ipython",
    "version": 3
   },
   "file_extension": ".py",
   "mimetype": "text/x-python",
   "name": "python",
   "nbconvert_exporter": "python",
   "pygments_lexer": "ipython3",
   "version": "3.9.7"
  },
  "orig_nbformat": 4
 },
 "nbformat": 4,
 "nbformat_minor": 2
}
