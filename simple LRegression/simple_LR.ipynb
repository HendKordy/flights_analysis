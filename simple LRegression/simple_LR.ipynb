{
 "cells": [
  {
   "cell_type": "code",
   "execution_count": 40,
   "metadata": {},
   "outputs": [],
   "source": [
    "import pandas as pd\n",
    "import seaborn as sns\n",
    "import numpy as np\n",
    "import math\n",
    "\n",
    "#to apply normalization and standarization\n",
    "from sklearn.compose import ColumnTransformer\n",
    "from sklearn.preprocessing import StandardScaler\n",
    "from sklearn.compose import make_column_selector as selector\n",
    "\n",
    "from sklearn import linear_model\n",
    "\n",
    "#encoding categorical variables \n",
    "from sklearn.preprocessing import OneHotEncoder\n",
    "\n",
    "#to build and validate a KNN model\n",
    "from sklearn.model_selection import train_test_split\n",
    "from sklearn.neighbors import KNeighborsRegressor\n",
    "from sklearn.model_selection import GridSearchCV\n",
    "from sklearn.metrics import mean_squared_error\n",
    "from sklearn.model_selection import KFold\n",
    "from sklearn.model_selection import cross_val_score\n",
    "\n",
    "from sklearn.linear_model import LogisticRegression\n",
    "from sklearn.svm import SVC\n",
    "from sklearn.ensemble import RandomForestClassifier\n",
    "#from sklearn.datasets import load_digits\n",
    "import matplotlib.pyplot as plt\n",
    "digits = load_digits()"
   ]
  },
  {
   "cell_type": "code",
   "execution_count": 41,
   "metadata": {},
   "outputs": [
    {
     "data": {
      "text/html": [
       "<div>\n",
       "<style scoped>\n",
       "    .dataframe tbody tr th:only-of-type {\n",
       "        vertical-align: middle;\n",
       "    }\n",
       "\n",
       "    .dataframe tbody tr th {\n",
       "        vertical-align: top;\n",
       "    }\n",
       "\n",
       "    .dataframe thead th {\n",
       "        text-align: right;\n",
       "    }\n",
       "</style>\n",
       "<table border=\"1\" class=\"dataframe\">\n",
       "  <thead>\n",
       "    <tr style=\"text-align: right;\">\n",
       "      <th></th>\n",
       "      <th>journey_year</th>\n",
       "      <th>journey_month</th>\n",
       "      <th>journey_day</th>\n",
       "      <th>weekday</th>\n",
       "      <th>dep_hour</th>\n",
       "      <th>dep_min</th>\n",
       "      <th>Arrival_hour</th>\n",
       "      <th>Arrival_min</th>\n",
       "      <th>Arrived_next_day</th>\n",
       "      <th>duration_hours</th>\n",
       "      <th>...</th>\n",
       "      <th>departure_evening</th>\n",
       "      <th>departure_late night</th>\n",
       "      <th>departure_morning</th>\n",
       "      <th>departure_night</th>\n",
       "      <th>arrival_After noon</th>\n",
       "      <th>arrival_early morning</th>\n",
       "      <th>arrival_evening</th>\n",
       "      <th>arrival_late night</th>\n",
       "      <th>arrival_morning</th>\n",
       "      <th>arrival_night</th>\n",
       "    </tr>\n",
       "  </thead>\n",
       "  <tbody>\n",
       "    <tr>\n",
       "      <th>0</th>\n",
       "      <td>2019</td>\n",
       "      <td>3</td>\n",
       "      <td>24</td>\n",
       "      <td>6</td>\n",
       "      <td>22</td>\n",
       "      <td>20</td>\n",
       "      <td>1</td>\n",
       "      <td>10</td>\n",
       "      <td>1</td>\n",
       "      <td>2</td>\n",
       "      <td>...</td>\n",
       "      <td>0</td>\n",
       "      <td>0</td>\n",
       "      <td>0</td>\n",
       "      <td>1</td>\n",
       "      <td>0</td>\n",
       "      <td>0</td>\n",
       "      <td>0</td>\n",
       "      <td>1</td>\n",
       "      <td>0</td>\n",
       "      <td>0</td>\n",
       "    </tr>\n",
       "    <tr>\n",
       "      <th>1</th>\n",
       "      <td>2019</td>\n",
       "      <td>1</td>\n",
       "      <td>5</td>\n",
       "      <td>5</td>\n",
       "      <td>5</td>\n",
       "      <td>50</td>\n",
       "      <td>13</td>\n",
       "      <td>15</td>\n",
       "      <td>0</td>\n",
       "      <td>7</td>\n",
       "      <td>...</td>\n",
       "      <td>0</td>\n",
       "      <td>0</td>\n",
       "      <td>0</td>\n",
       "      <td>0</td>\n",
       "      <td>1</td>\n",
       "      <td>0</td>\n",
       "      <td>0</td>\n",
       "      <td>0</td>\n",
       "      <td>0</td>\n",
       "      <td>0</td>\n",
       "    </tr>\n",
       "  </tbody>\n",
       "</table>\n",
       "<p>2 rows × 52 columns</p>\n",
       "</div>"
      ],
      "text/plain": [
       "   journey_year  journey_month  journey_day  weekday  dep_hour  dep_min  \\\n",
       "0          2019              3           24        6        22       20   \n",
       "1          2019              1            5        5         5       50   \n",
       "\n",
       "   Arrival_hour  Arrival_min  Arrived_next_day  duration_hours  ...  \\\n",
       "0             1           10                 1               2  ...   \n",
       "1            13           15                 0               7  ...   \n",
       "\n",
       "   departure_evening  departure_late night  departure_morning  \\\n",
       "0                  0                     0                  0   \n",
       "1                  0                     0                  0   \n",
       "\n",
       "   departure_night  arrival_After noon  arrival_early morning  \\\n",
       "0                1                   0                      0   \n",
       "1                0                   1                      0   \n",
       "\n",
       "   arrival_evening  arrival_late night  arrival_morning  arrival_night  \n",
       "0                0                   1                0              0  \n",
       "1                0                   0                0              0  \n",
       "\n",
       "[2 rows x 52 columns]"
      ]
     },
     "execution_count": 41,
     "metadata": {},
     "output_type": "execute_result"
    }
   ],
   "source": [
    "dfa = pd.read_csv('df_encoding3_1.csv')\n",
    "dfa.head(2)"
   ]
  },
  {
   "cell_type": "markdown",
   "metadata": {},
   "source": [
    "Cross validation"
   ]
  },
  {
   "cell_type": "code",
   "execution_count": 49,
   "metadata": {},
   "outputs": [],
   "source": [
    "P_features = pd.read_csv('P_features.csv')\n",
    "P_target = pd.read_csv('P_target.csv')"
   ]
  },
  {
   "cell_type": "code",
   "execution_count": 50,
   "metadata": {},
   "outputs": [],
   "source": [
    "from sklearn.model_selection import train_test_split\n",
    "X_train, X_test, y_train, y_test = train_test_split(P_features,P_target,test_size=0.3)"
   ]
  },
  {
   "cell_type": "code",
   "execution_count": 51,
   "metadata": {},
   "outputs": [
    {
     "name": "stderr",
     "output_type": "stream",
     "text": [
      "/opt/conda/lib/python3.9/site-packages/sklearn/utils/validation.py:63: DataConversionWarning: A column-vector y was passed when a 1d array was expected. Please change the shape of y to (n_samples, ), for example using ravel().\n",
      "  return f(*args, **kwargs)\n"
     ]
    },
    {
     "data": {
      "text/plain": [
       "0.33354571519592224"
      ]
     },
     "execution_count": 51,
     "metadata": {},
     "output_type": "execute_result"
    }
   ],
   "source": [
    "lr = LogisticRegression(solver='liblinear',multi_class='ovr')\n",
    "lr.fit(X_train, y_train)\n",
    "lr.score(X_test, y_test)"
   ]
  },
  {
   "cell_type": "code",
   "execution_count": 52,
   "metadata": {},
   "outputs": [
    {
     "name": "stderr",
     "output_type": "stream",
     "text": [
      "/opt/conda/lib/python3.9/site-packages/sklearn/utils/validation.py:63: DataConversionWarning: A column-vector y was passed when a 1d array was expected. Please change the shape of y to (n_samples, ), for example using ravel().\n",
      "  return f(*args, **kwargs)\n"
     ]
    },
    {
     "data": {
      "text/plain": [
       "0.21280662631411276"
      ]
     },
     "execution_count": 52,
     "metadata": {},
     "output_type": "execute_result"
    }
   ],
   "source": [
    "svm = SVC(gamma='auto')\n",
    "svm.fit(X_train, y_train)\n",
    "svm.score(X_test, y_test)"
   ]
  },
  {
   "cell_type": "code",
   "execution_count": 53,
   "metadata": {},
   "outputs": [
    {
     "name": "stderr",
     "output_type": "stream",
     "text": [
      "/tmp/ipykernel_475/2692549809.py:2: DataConversionWarning: A column-vector y was passed when a 1d array was expected. Please change the shape of y to (n_samples,), for example using ravel().\n",
      "  rf.fit(X_train, y_train)\n"
     ]
    },
    {
     "data": {
      "text/plain": [
       "0.3408728894552405"
      ]
     },
     "execution_count": 53,
     "metadata": {},
     "output_type": "execute_result"
    }
   ],
   "source": [
    "rf = RandomForestClassifier(n_estimators=40)\n",
    "rf.fit(X_train, y_train)\n",
    "rf.score(X_test, y_test)"
   ]
  },
  {
   "cell_type": "code",
   "execution_count": 3,
   "metadata": {},
   "outputs": [],
   "source": [
    "train, test = train_test_split(dfa, train_size=0.7, random_state=123)\n"
   ]
  },
  {
   "cell_type": "code",
   "execution_count": 4,
   "metadata": {},
   "outputs": [],
   "source": [
    "X_train = train.drop(\"price\", axis=1)\n",
    "y_train = train[[\"price\"]]"
   ]
  },
  {
   "cell_type": "code",
   "execution_count": 16,
   "metadata": {},
   "outputs": [],
   "source": [
    "reg = linear_model.LinearRegression()\n"
   ]
  },
  {
   "cell_type": "code",
   "execution_count": 36,
   "metadata": {},
   "outputs": [
    {
     "data": {
      "text/plain": [
       "LinearRegression()"
      ]
     },
     "execution_count": 36,
     "metadata": {},
     "output_type": "execute_result"
    }
   ],
   "source": [
    "reg.fit(dfa[['journey_year','journey_month','journey_day','weekday','dep_hour','dep_min','Arrival_hour','Arrival_min','Arrived_next_day','duration_hours','duration_mins','Duration_in_mins','Air Asia','Air India','GoAir',\t'IndiGo',\t'Jet Airways',\t'Jet Airways Business',\t'Multiple carriers',\t'Multiple carriers Premium economy',\t'SpiceJet',\t'Trujet',\t'Vistara',\t'Vistara Premium economy',\t'destination_Banglore',\t'destination_Cochin',\t'destination_Delhi',\t'destination_Hyderabad',\t'destination_Kolkata',\t'source_Banglore',\t'source_Chennai',\t'source_Delhi',\t'source_Kolkata',\t'source_Mumbai',\t'1 stop',\t'2 stops',\t'3 stops',\t'4 stops',\t'non-stop',\t'departure_After noon',\t'departure_early morning','departure_evening','departure_late night','departure_morning','departure_night','arrival_After noon','arrival_early morning','arrival_evening','arrival_late night','arrival_morning','arrival_night'\n",
    "]],dfa.price)"
   ]
  },
  {
   "cell_type": "code",
   "execution_count": 37,
   "metadata": {},
   "outputs": [
    {
     "data": {
      "text/plain": [
       "array([-5.58177479e-11, -1.24421208e+02, -8.13323840e+01, -7.72984111e+01,\n",
       "        3.24719394e+01,  3.93889657e+00, -1.62279735e+02,  3.78655131e+00,\n",
       "       -1.60860124e+03,  4.34111831e-02, -1.56147517e+00,  1.04319571e+00,\n",
       "       -5.27632227e+03, -3.59043725e+03, -5.56670517e+03, -4.98471834e+03,\n",
       "       -1.11701125e+03,  4.29137253e+04, -1.94629310e+03, -8.45080182e+02,\n",
       "       -5.39532925e+03, -9.22795214e+03, -3.15400037e+03, -1.80987594e+03,\n",
       "       -1.21908303e+02, -1.76656041e+02,  4.39079487e+02, -5.08386258e+02,\n",
       "        3.67871114e+02,  4.39079487e+02,  3.67871114e+02, -1.76656041e+02,\n",
       "       -1.21908303e+02, -5.08386258e+02, -1.54308884e+03,  7.42536992e+02,\n",
       "        2.02962367e+03,  4.72286923e+03, -5.95194105e+03,  3.20575931e+02,\n",
       "       -5.06629063e+02,  6.90491868e+01, -4.18087651e+02, -1.00556044e+02,\n",
       "        6.35647641e+02,  1.95581533e+02, -2.07663562e+02,  8.63474177e+02,\n",
       "       -9.56206271e+02, -3.60840800e+02,  4.65654924e+02])"
      ]
     },
     "execution_count": 37,
     "metadata": {},
     "output_type": "execute_result"
    }
   ],
   "source": [
    "reg.coef_"
   ]
  },
  {
   "cell_type": "code",
   "execution_count": 19,
   "metadata": {},
   "outputs": [
    {
     "data": {
      "text/plain": [
       "16885.35721537547"
      ]
     },
     "execution_count": 19,
     "metadata": {},
     "output_type": "execute_result"
    }
   ],
   "source": [
    "reg.intercept_"
   ]
  },
  {
   "cell_type": "code",
   "execution_count": 38,
   "metadata": {},
   "outputs": [
    {
     "data": {
      "text/plain": [
       "array([4293.3753164])"
      ]
     },
     "execution_count": 38,
     "metadata": {},
     "output_type": "execute_result"
    }
   ],
   "source": [
    "reg.predict([[2019,\t3,\t24,\t6,\t22,\t20,\t1,\t10,\t1,\t2,\t50,\t170,\t0,\t0,\t0,\t1,\t0,\t0,\t0,\t0,\t0,\t0,\t0,\t0,\t0,\t0,\t1,\t0,\t0,\t1,\t0,\t0,\t0,\t0,\t0,\t0,\t0,\t0,\t1,\t0,\t0,\t0,\t0,\t0,\t1,\t0,\t0,\t0,1,\t0,\t0,\n",
    "]])"
   ]
  },
  {
   "cell_type": "code",
   "execution_count": 39,
   "metadata": {},
   "outputs": [
    {
     "data": {
      "text/plain": [
       "array([5513.69305862])"
      ]
     },
     "execution_count": 39,
     "metadata": {},
     "output_type": "execute_result"
    }
   ],
   "source": [
    "reg.predict([[2019,\t3,\t4,\t0,\t11,\t40,\t14,\t30,\t0,\t2,\t50,\t170,\t0,\t0,\t1,\t0,\t0,\t0,\t0,\t0,\t0,\t0,\t0,\t0,\t0,\t0,\t1,\t0,\t0,\t1,\t0,\t0,\t0,\t0,\t0,\t0,\t0,\t0,\t1,\t0,\t0,\t0,\t0,\t1,\t0,\t1,\t0,\t0,\t0,\t0,\t0,\n",
    "]])"
   ]
  },
  {
   "cell_type": "markdown",
   "metadata": {},
   "source": []
  }
 ],
 "metadata": {
  "interpreter": {
   "hash": "d4d1e4263499bec80672ea0156c357c1ee493ec2b1c70f0acce89fc37c4a6abe"
  },
  "kernelspec": {
   "display_name": "Python 3.9.7 ('base')",
   "language": "python",
   "name": "python3"
  },
  "language_info": {
   "codemirror_mode": {
    "name": "ipython",
    "version": 3
   },
   "file_extension": ".py",
   "mimetype": "text/x-python",
   "name": "python",
   "nbconvert_exporter": "python",
   "pygments_lexer": "ipython3",
   "version": "3.9.7"
  },
  "orig_nbformat": 4
 },
 "nbformat": 4,
 "nbformat_minor": 2
}
