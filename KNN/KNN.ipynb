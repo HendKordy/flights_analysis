{
 "cells": [
  {
   "cell_type": "code",
   "execution_count": 86,
   "metadata": {},
   "outputs": [],
   "source": [
    "#import basic packages\n",
    "import pandas as pd\n",
    "import seaborn as sns\n",
    "import numpy as np\n",
    "import math\n",
    "\n",
    "#to apply normalization and standarization\n",
    "from sklearn.compose import ColumnTransformer\n",
    "from sklearn.preprocessing import StandardScaler, PowerTransformer\n",
    "from sklearn.compose import make_column_selector as selector, TransformedTargetRegressor\n",
    "\n",
    "#encoding categorical variables \n",
    "from sklearn.preprocessing import OneHotEncoder\n",
    "\n",
    "#feature selection\n",
    "from sklearn.feature_selection import VarianceThreshold\n",
    "from sklearn.decomposition import PCA\n",
    "\n",
    "#to build and validate a KNN model\n",
    "from sklearn.model_selection import train_test_split, KFold, RepeatedKFold, cross_val_score\n",
    "from sklearn.neighbors import KNeighborsRegressor\n",
    "from sklearn.model_selection import GridSearchCV\n",
    "from sklearn.metrics import mean_squared_error\n",
    "\n",
    "\n",
    "#visualizations\n",
    "from plotnine import ggplot, aes, geom_density, geom_line, geom_point, ggtitle\n",
    "import matplotlib.pyplot as plt"
   ]
  },
  {
   "cell_type": "code",
   "execution_count": 87,
   "metadata": {},
   "outputs": [],
   "source": [
    "#read the cleaned df\n",
    "df = pd.read_csv('df_cleaned.csv')"
   ]
  },
  {
   "cell_type": "code",
   "execution_count": 88,
   "metadata": {},
   "outputs": [
    {
     "name": "stdout",
     "output_type": "stream",
     "text": [
      "<class 'pandas.core.frame.DataFrame'>\n",
      "RangeIndex: 10462 entries, 0 to 10461\n",
      "Data columns (total 21 columns):\n",
      " #   Column            Non-Null Count  Dtype \n",
      "---  ------            --------------  ----- \n",
      " 0   airline           10462 non-null  object\n",
      " 1   embarked          10462 non-null  object\n",
      " 2   destination       10462 non-null  object\n",
      " 3   Route             10462 non-null  object\n",
      " 4   stops             10462 non-null  object\n",
      " 5   journey_year      10462 non-null  int64 \n",
      " 6   journey_month     10462 non-null  int64 \n",
      " 7   journey_day       10462 non-null  int64 \n",
      " 8   weekday           10462 non-null  int64 \n",
      " 9   dep_hour          10462 non-null  int64 \n",
      " 10  dep_min           10462 non-null  int64 \n",
      " 11  departure_period  10462 non-null  object\n",
      " 12  Arrival_hour      10462 non-null  int64 \n",
      " 13  Arrival_min       10462 non-null  int64 \n",
      " 14  arrival_period    10462 non-null  object\n",
      " 15  Arrived_next_day  10462 non-null  bool  \n",
      " 16  duration_hours    10462 non-null  int64 \n",
      " 17  duration_mins     10462 non-null  int64 \n",
      " 18  Duration_in_mins  10462 non-null  int64 \n",
      " 19  price             10462 non-null  int64 \n",
      " 20  additional_info   10462 non-null  object\n",
      "dtypes: bool(1), int64(12), object(8)\n",
      "memory usage: 1.6+ MB\n"
     ]
    }
   ],
   "source": [
    "#explore columns and dtype\n",
    "df.info()"
   ]
  },
  {
   "cell_type": "code",
   "execution_count": 89,
   "metadata": {},
   "outputs": [
    {
     "data": {
      "text/html": [
       "<div>\n",
       "<style scoped>\n",
       "    .dataframe tbody tr th:only-of-type {\n",
       "        vertical-align: middle;\n",
       "    }\n",
       "\n",
       "    .dataframe tbody tr th {\n",
       "        vertical-align: top;\n",
       "    }\n",
       "\n",
       "    .dataframe thead th {\n",
       "        text-align: right;\n",
       "    }\n",
       "</style>\n",
       "<table border=\"1\" class=\"dataframe\">\n",
       "  <thead>\n",
       "    <tr style=\"text-align: right;\">\n",
       "      <th></th>\n",
       "      <th>airline</th>\n",
       "      <th>embarked</th>\n",
       "      <th>destination</th>\n",
       "      <th>Route</th>\n",
       "      <th>stops</th>\n",
       "      <th>journey_year</th>\n",
       "      <th>journey_month</th>\n",
       "      <th>journey_day</th>\n",
       "      <th>weekday</th>\n",
       "      <th>dep_hour</th>\n",
       "      <th>...</th>\n",
       "      <th>departure_period</th>\n",
       "      <th>Arrival_hour</th>\n",
       "      <th>Arrival_min</th>\n",
       "      <th>arrival_period</th>\n",
       "      <th>Arrived_next_day</th>\n",
       "      <th>duration_hours</th>\n",
       "      <th>duration_mins</th>\n",
       "      <th>Duration_in_mins</th>\n",
       "      <th>price</th>\n",
       "      <th>additional_info</th>\n",
       "    </tr>\n",
       "  </thead>\n",
       "  <tbody>\n",
       "    <tr>\n",
       "      <th>0</th>\n",
       "      <td>IndiGo</td>\n",
       "      <td>Banglore</td>\n",
       "      <td>New Delhi</td>\n",
       "      <td>BLR → DEL</td>\n",
       "      <td>non-stop</td>\n",
       "      <td>2019</td>\n",
       "      <td>3</td>\n",
       "      <td>24</td>\n",
       "      <td>6</td>\n",
       "      <td>22</td>\n",
       "      <td>...</td>\n",
       "      <td>night</td>\n",
       "      <td>1</td>\n",
       "      <td>10</td>\n",
       "      <td>late night</td>\n",
       "      <td>True</td>\n",
       "      <td>2</td>\n",
       "      <td>50</td>\n",
       "      <td>170</td>\n",
       "      <td>3898</td>\n",
       "      <td>No info</td>\n",
       "    </tr>\n",
       "    <tr>\n",
       "      <th>1</th>\n",
       "      <td>Air India</td>\n",
       "      <td>Kolkata</td>\n",
       "      <td>Banglore</td>\n",
       "      <td>CCU → IXR → BBI → BLR</td>\n",
       "      <td>2 stops</td>\n",
       "      <td>2019</td>\n",
       "      <td>5</td>\n",
       "      <td>1</td>\n",
       "      <td>2</td>\n",
       "      <td>5</td>\n",
       "      <td>...</td>\n",
       "      <td>early morning</td>\n",
       "      <td>13</td>\n",
       "      <td>15</td>\n",
       "      <td>After noon</td>\n",
       "      <td>False</td>\n",
       "      <td>7</td>\n",
       "      <td>25</td>\n",
       "      <td>445</td>\n",
       "      <td>7663</td>\n",
       "      <td>No info</td>\n",
       "    </tr>\n",
       "    <tr>\n",
       "      <th>2</th>\n",
       "      <td>Jet Airways</td>\n",
       "      <td>Delhi</td>\n",
       "      <td>Cochin</td>\n",
       "      <td>DEL → LKO → BOM → COK</td>\n",
       "      <td>2 stops</td>\n",
       "      <td>2019</td>\n",
       "      <td>6</td>\n",
       "      <td>9</td>\n",
       "      <td>6</td>\n",
       "      <td>9</td>\n",
       "      <td>...</td>\n",
       "      <td>morning</td>\n",
       "      <td>4</td>\n",
       "      <td>25</td>\n",
       "      <td>late night</td>\n",
       "      <td>True</td>\n",
       "      <td>19</td>\n",
       "      <td>0</td>\n",
       "      <td>1140</td>\n",
       "      <td>13883</td>\n",
       "      <td>No info</td>\n",
       "    </tr>\n",
       "    <tr>\n",
       "      <th>3</th>\n",
       "      <td>IndiGo</td>\n",
       "      <td>Kolkata</td>\n",
       "      <td>Banglore</td>\n",
       "      <td>CCU → NAG → BLR</td>\n",
       "      <td>1 stop</td>\n",
       "      <td>2019</td>\n",
       "      <td>5</td>\n",
       "      <td>12</td>\n",
       "      <td>6</td>\n",
       "      <td>18</td>\n",
       "      <td>...</td>\n",
       "      <td>evening</td>\n",
       "      <td>23</td>\n",
       "      <td>30</td>\n",
       "      <td>night</td>\n",
       "      <td>False</td>\n",
       "      <td>5</td>\n",
       "      <td>25</td>\n",
       "      <td>325</td>\n",
       "      <td>6219</td>\n",
       "      <td>No info</td>\n",
       "    </tr>\n",
       "    <tr>\n",
       "      <th>4</th>\n",
       "      <td>IndiGo</td>\n",
       "      <td>Banglore</td>\n",
       "      <td>New Delhi</td>\n",
       "      <td>BLR → NAG → DEL</td>\n",
       "      <td>1 stop</td>\n",
       "      <td>2019</td>\n",
       "      <td>3</td>\n",
       "      <td>1</td>\n",
       "      <td>4</td>\n",
       "      <td>16</td>\n",
       "      <td>...</td>\n",
       "      <td>After noon</td>\n",
       "      <td>21</td>\n",
       "      <td>35</td>\n",
       "      <td>night</td>\n",
       "      <td>False</td>\n",
       "      <td>4</td>\n",
       "      <td>45</td>\n",
       "      <td>285</td>\n",
       "      <td>13303</td>\n",
       "      <td>No info</td>\n",
       "    </tr>\n",
       "  </tbody>\n",
       "</table>\n",
       "<p>5 rows × 21 columns</p>\n",
       "</div>"
      ],
      "text/plain": [
       "       airline  embarked destination                  Route     stops  \\\n",
       "0       IndiGo  Banglore   New Delhi              BLR → DEL  non-stop   \n",
       "1    Air India   Kolkata    Banglore  CCU → IXR → BBI → BLR   2 stops   \n",
       "2  Jet Airways     Delhi      Cochin  DEL → LKO → BOM → COK   2 stops   \n",
       "3       IndiGo   Kolkata    Banglore        CCU → NAG → BLR    1 stop   \n",
       "4       IndiGo  Banglore   New Delhi        BLR → NAG → DEL    1 stop   \n",
       "\n",
       "   journey_year  journey_month  journey_day  weekday  dep_hour  ...  \\\n",
       "0          2019              3           24        6        22  ...   \n",
       "1          2019              5            1        2         5  ...   \n",
       "2          2019              6            9        6         9  ...   \n",
       "3          2019              5           12        6        18  ...   \n",
       "4          2019              3            1        4        16  ...   \n",
       "\n",
       "   departure_period Arrival_hour  Arrival_min  arrival_period  \\\n",
       "0             night            1           10      late night   \n",
       "1     early morning           13           15      After noon   \n",
       "2           morning            4           25      late night   \n",
       "3           evening           23           30           night   \n",
       "4        After noon           21           35           night   \n",
       "\n",
       "  Arrived_next_day  duration_hours  duration_mins  Duration_in_mins  price  \\\n",
       "0             True               2             50               170   3898   \n",
       "1            False               7             25               445   7663   \n",
       "2             True              19              0              1140  13883   \n",
       "3            False               5             25               325   6219   \n",
       "4            False               4             45               285  13303   \n",
       "\n",
       "   additional_info  \n",
       "0          No info  \n",
       "1          No info  \n",
       "2          No info  \n",
       "3          No info  \n",
       "4          No info  \n",
       "\n",
       "[5 rows x 21 columns]"
      ]
     },
     "execution_count": 89,
     "metadata": {},
     "output_type": "execute_result"
    }
   ],
   "source": [
    "#display the df\n",
    "df.head()"
   ]
  },
  {
   "cell_type": "code",
   "execution_count": 90,
   "metadata": {},
   "outputs": [],
   "source": [
    "#drop Arrived_nex_day since it's boolean dtype\n",
    "df.drop(['Arrived_next_day'], axis=1, inplace=True)"
   ]
  },
  {
   "cell_type": "code",
   "execution_count": 91,
   "metadata": {},
   "outputs": [],
   "source": [
    "#drop Route\n",
    "df.drop(['Route'], axis=1, inplace=True)"
   ]
  },
  {
   "cell_type": "code",
   "execution_count": 92,
   "metadata": {},
   "outputs": [],
   "source": [
    "#drop additional_info\n",
    "df.drop(['additional_info'], axis=1, inplace=True)"
   ]
  },
  {
   "cell_type": "markdown",
   "metadata": {},
   "source": [
    "ML modeling process"
   ]
  },
  {
   "cell_type": "markdown",
   "metadata": {},
   "source": [
    "**split data**"
   ]
  },
  {
   "cell_type": "code",
   "execution_count": 93,
   "metadata": {},
   "outputs": [],
   "source": [
    "#70% train set, 20% test set\n",
    "train, test = train_test_split(df, train_size=0.7, random_state=123)"
   ]
  },
  {
   "cell_type": "code",
   "execution_count": 94,
   "metadata": {},
   "outputs": [],
   "source": [
    "# separate features and target\n",
    "X_train = train.drop(\"price\", axis=1)\n",
    "y_train = train[[\"price\"]]"
   ]
  },
  {
   "cell_type": "code",
   "execution_count": 95,
   "metadata": {},
   "outputs": [
    {
     "name": "stdout",
     "output_type": "stream",
     "text": [
      "(7323, 17)\n",
      "(7323, 1)\n"
     ]
    }
   ],
   "source": [
    "#check the number of columns and instances of each set\n",
    "print(X_train.shape)\n",
    "print(y_train.shape)"
   ]
  },
  {
   "cell_type": "code",
   "execution_count": 96,
   "metadata": {},
   "outputs": [
    {
     "name": "stderr",
     "output_type": "stream",
     "text": [
      "/tmp/ipykernel_1269/3151740729.py:2: SettingWithCopyWarning: \n",
      "A value is trying to be set on a copy of a slice from a DataFrame.\n",
      "Try using .loc[row_indexer,col_indexer] = value instead\n",
      "\n",
      "See the caveats in the documentation: https://pandas.pydata.org/pandas-docs/stable/user_guide/indexing.html#returning-a-view-versus-a-copy\n",
      "/tmp/ipykernel_1269/3151740729.py:3: SettingWithCopyWarning: \n",
      "A value is trying to be set on a copy of a slice from a DataFrame.\n",
      "Try using .loc[row_indexer,col_indexer] = value instead\n",
      "\n",
      "See the caveats in the documentation: https://pandas.pydata.org/pandas-docs/stable/user_guide/indexing.html#returning-a-view-versus-a-copy\n"
     ]
    },
    {
     "data": {
      "image/png": "[encoded data removed]",
      "text/plain": [
       "<Figure size 640x480 with 1 Axes>"
      ]
     },
     "metadata": {},
     "output_type": "display_data"
    },
    {
     "data": {
      "text/plain": [
       "<ggplot: (8752242228490)>"
      ]
     },
     "execution_count": 96,
     "metadata": {},
     "output_type": "execute_result"
    }
   ],
   "source": [
    "#display the distribution of our split. similar but not identical!\n",
    "train['id'] = 'train'\n",
    "test['id'] = 'test'\n",
    "\n",
    "(ggplot(pd.concat([train, test]), aes('price', color='id'))\n",
    " + geom_density()\n",
    " + ggtitle(\"Random sampling with Python\"))"
   ]
  },
  {
   "cell_type": "markdown",
   "metadata": {},
   "source": [
    "**Target engineering**"
   ]
  },
  {
   "cell_type": "code",
   "execution_count": 97,
   "metadata": {},
   "outputs": [
    {
     "data": {
      "text/html": [
       "<div>\n",
       "<style scoped>\n",
       "    .dataframe tbody tr th:only-of-type {\n",
       "        vertical-align: middle;\n",
       "    }\n",
       "\n",
       "    .dataframe tbody tr th {\n",
       "        vertical-align: top;\n",
       "    }\n",
       "\n",
       "    .dataframe thead th {\n",
       "        text-align: right;\n",
       "    }\n",
       "</style>\n",
       "<table border=\"1\" class=\"dataframe\">\n",
       "  <thead>\n",
       "    <tr style=\"text-align: right;\">\n",
       "      <th></th>\n",
       "      <th>price</th>\n",
       "    </tr>\n",
       "  </thead>\n",
       "  <tbody>\n",
       "    <tr>\n",
       "      <th>count</th>\n",
       "      <td>7323.000000</td>\n",
       "    </tr>\n",
       "    <tr>\n",
       "      <th>mean</th>\n",
       "      <td>9039.892257</td>\n",
       "    </tr>\n",
       "    <tr>\n",
       "      <th>std</th>\n",
       "      <td>4737.526457</td>\n",
       "    </tr>\n",
       "    <tr>\n",
       "      <th>min</th>\n",
       "      <td>1760.000000</td>\n",
       "    </tr>\n",
       "    <tr>\n",
       "      <th>25%</th>\n",
       "      <td>5225.000000</td>\n",
       "    </tr>\n",
       "    <tr>\n",
       "      <th>50%</th>\n",
       "      <td>8267.000000</td>\n",
       "    </tr>\n",
       "    <tr>\n",
       "      <th>75%</th>\n",
       "      <td>12296.000000</td>\n",
       "    </tr>\n",
       "    <tr>\n",
       "      <th>max</th>\n",
       "      <td>79513.000000</td>\n",
       "    </tr>\n",
       "  </tbody>\n",
       "</table>\n",
       "</div>"
      ],
      "text/plain": [
       "              price\n",
       "count   7323.000000\n",
       "mean    9039.892257\n",
       "std     4737.526457\n",
       "min     1760.000000\n",
       "25%     5225.000000\n",
       "50%     8267.000000\n",
       "75%    12296.000000\n",
       "max    79513.000000"
      ]
     },
     "execution_count": 97,
     "metadata": {},
     "output_type": "execute_result"
    }
   ],
   "source": [
    "#explore basic statistics of our target \n",
    "y_train.describe()"
   ]
  },
  {
   "cell_type": "code",
   "execution_count": 98,
   "metadata": {},
   "outputs": [
    {
     "data": {
      "image/png": "[encoded data removed]",
      "text/plain": [
       "<Figure size 420.875x360 with 1 Axes>"
      ]
     },
     "metadata": {
      "needs_background": "light"
     },
     "output_type": "display_data"
    }
   ],
   "source": [
    "#explore distribution of target\n",
    "target_dist= sns.displot(y_train, bins=50)\n",
    "plt.show()"
   ]
  },
  {
   "cell_type": "markdown",
   "metadata": {},
   "source": [
    "**Normalize target**"
   ]
  },
  {
   "cell_type": "code",
   "execution_count": 99,
   "metadata": {},
   "outputs": [
    {
     "data": {
      "text/plain": [
       "<seaborn.axisgrid.FacetGrid at 0x7f5ca4873e50>"
      ]
     },
     "execution_count": 99,
     "metadata": {},
     "output_type": "execute_result"
    },
    {
     "data": {
      "image/png": "[encoded data removed]",
      "text/plain": [
       "<Figure size 420.875x360 with 1 Axes>"
      ]
     },
     "metadata": {
      "needs_background": "light"
     },
     "output_type": "display_data"
    }
   ],
   "source": [
    "y_train = np.log(y_train)\n",
    "sns.displot(y_train, bins= 50)"
   ]
  },
  {
   "cell_type": "markdown",
   "metadata": {},
   "source": [
    "**Standarize target**"
   ]
  },
  {
   "cell_type": "code",
   "execution_count": 100,
   "metadata": {},
   "outputs": [],
   "source": [
    "scaler = StandardScaler()\n",
    "y_train=scaler.fit_transform(y_train)"
   ]
  },
  {
   "cell_type": "code",
   "execution_count": 101,
   "metadata": {},
   "outputs": [
    {
     "data": {
      "image/png": "[encoded data removed]",
      "text/plain": [
       "<Figure size 402.375x360 with 1 Axes>"
      ]
     },
     "metadata": {
      "needs_background": "light"
     },
     "output_type": "display_data"
    }
   ],
   "source": [
    "#we can see the target is now standarized\n",
    "sns.displot(y_train, bins=50)\n",
    "plt.show()"
   ]
  },
  {
   "cell_type": "code",
   "execution_count": 102,
   "metadata": {},
   "outputs": [
    {
     "data": {
      "text/plain": [
       "dtype('float64')"
      ]
     },
     "execution_count": 102,
     "metadata": {},
     "output_type": "execute_result"
    }
   ],
   "source": [
    "y_train.dtype"
   ]
  },
  {
   "cell_type": "code",
   "execution_count": 103,
   "metadata": {},
   "outputs": [
    {
     "name": "stdout",
     "output_type": "stream",
     "text": [
      "-1.0876941237021335e-15\n",
      "4.441183825943805\n",
      "-2.9063763517299024\n"
     ]
    }
   ],
   "source": [
    "#check the new parameters\n",
    "print(y_train.mean())\n",
    "print(y_train.max())\n",
    "print(y_train.min())"
   ]
  },
  {
   "cell_type": "markdown",
   "metadata": {},
   "source": [
    "**Fature engineering and selection**"
   ]
  },
  {
   "cell_type": "markdown",
   "metadata": {},
   "source": [
    "**Standarize and encode features**"
   ]
  },
  {
   "cell_type": "code",
   "execution_count": 104,
   "metadata": {},
   "outputs": [],
   "source": [
    "#now standarize all non-time features and on-hot encode all the other features\n",
    "preprocessor = ColumnTransformer(\n",
    "  remainder=\"passthrough\",\n",
    "  transformers=[\n",
    "    (\"one-hot\", OneHotEncoder(), selector(dtype_include=\"object\")),\n",
    "    (\"scale\", StandardScaler(), selector(dtype_include=\"number\")),\n",
    "  ])"
   ]
  },
  {
   "cell_type": "code",
   "execution_count": 105,
   "metadata": {},
   "outputs": [],
   "source": [
    "#apply the pipeline above to X_train\n",
    "X_train_encoded = preprocessor.fit_transform(X_train)"
   ]
  },
  {
   "cell_type": "code",
   "execution_count": 106,
   "metadata": {},
   "outputs": [
    {
     "data": {
      "text/plain": [
       "array([[ 0.        ,  0.        ,  0.        , ..., -0.71778889,\n",
       "         0.10888781, -0.71695988],\n",
       "       [ 1.        ,  0.        ,  0.        , ..., -0.95746096,\n",
       "         1.29327022, -0.91748186],\n",
       "       [ 0.        ,  0.        ,  0.        , ...,  0.36073543,\n",
       "        -0.48330339,  0.34580664],\n",
       "       ...,\n",
       "       [ 0.        ,  0.        ,  0.        , ...,  0.12106336,\n",
       "        -1.37159019,  0.07510196],\n",
       "       [ 0.        ,  0.        ,  0.        , ...,  0.48057147,\n",
       "        -1.37159019,  0.43604153],\n",
       "       [ 0.        ,  0.        ,  0.        , ...,  0.12106336,\n",
       "         0.10888781,  0.12523246]])"
      ]
     },
     "execution_count": 106,
     "metadata": {},
     "output_type": "execute_result"
    }
   ],
   "source": [
    "X_train_encoded.view()"
   ]
  },
  {
   "cell_type": "code",
   "execution_count": 107,
   "metadata": {},
   "outputs": [
    {
     "data": {
      "text/plain": [
       "(7323, 51)"
      ]
     },
     "execution_count": 107,
     "metadata": {},
     "output_type": "execute_result"
    }
   ],
   "source": [
    "X_train_encoded.shape"
   ]
  },
  {
   "cell_type": "code",
   "execution_count": 108,
   "metadata": {},
   "outputs": [
    {
     "name": "stdout",
     "output_type": "stream",
     "text": [
      "-2.1638370341917015\n",
      "0.11764705882352941\n",
      "4.476559516231364\n"
     ]
    }
   ],
   "source": [
    "print(X_train_encoded.min())\n",
    "print(X_train_encoded.mean())\n",
    "print(X_train_encoded.max())"
   ]
  },
  {
   "cell_type": "markdown",
   "metadata": {},
   "source": [
    "**Feature filtering** "
   ]
  },
  {
   "cell_type": "code",
   "execution_count": 109,
   "metadata": {},
   "outputs": [
    {
     "data": {
      "text/plain": [
       "array([[ 0.        ,  0.        ,  0.        , ..., -0.71778889,\n",
       "         0.10888781, -0.71695988],\n",
       "       [ 0.        ,  0.        ,  0.        , ..., -0.95746096,\n",
       "         1.29327022, -0.91748186],\n",
       "       [ 0.        ,  0.        ,  1.        , ...,  0.36073543,\n",
       "        -0.48330339,  0.34580664],\n",
       "       ...,\n",
       "       [ 0.        ,  0.        ,  1.        , ...,  0.12106336,\n",
       "        -1.37159019,  0.07510196],\n",
       "       [ 0.        ,  1.        ,  0.        , ...,  0.48057147,\n",
       "        -1.37159019,  0.43604153],\n",
       "       [ 0.        ,  0.        ,  0.        , ...,  0.12106336,\n",
       "         0.10888781,  0.12523246]])"
      ]
     },
     "execution_count": 109,
     "metadata": {},
     "output_type": "execute_result"
    }
   ],
   "source": [
    "nzv = VarianceThreshold(threshold=0.1)\n",
    "near_zero = nzv.fit_transform(X_train_encoded)\n",
    "near_zero"
   ]
  },
  {
   "cell_type": "markdown",
   "metadata": {},
   "source": [
    "**Build and fit a KNN model**"
   ]
  },
  {
   "cell_type": "code",
   "execution_count": 110,
   "metadata": {},
   "outputs": [],
   "source": [
    "knn = KNeighborsRegressor(n_neighbors=10)"
   ]
  },
  {
   "cell_type": "code",
   "execution_count": 111,
   "metadata": {},
   "outputs": [],
   "source": [
    "m1 = knn.fit(X_train_encoded,y_train)"
   ]
  },
  {
   "cell_type": "code",
   "execution_count": 112,
   "metadata": {},
   "outputs": [
    {
     "data": {
      "text/plain": [
       "array([[-0.60426556],\n",
       "       [-1.0936124 ],\n",
       "       [ 0.77741584],\n",
       "       ...,\n",
       "       [ 0.61095562],\n",
       "       [-0.19252559],\n",
       "       [ 0.21542684]])"
      ]
     },
     "execution_count": 112,
     "metadata": {},
     "output_type": "execute_result"
    }
   ],
   "source": [
    "m1.predict(X_train_encoded)"
   ]
  },
  {
   "cell_type": "code",
   "execution_count": 113,
   "metadata": {},
   "outputs": [
    {
     "data": {
      "text/plain": [
       "0.158819858908483"
      ]
     },
     "execution_count": 113,
     "metadata": {},
     "output_type": "execute_result"
    }
   ],
   "source": [
    "#calculate MSE\n",
    "pred = m1.predict(X_train_encoded)\n",
    "mse = mean_squared_error(y_train, pred)\n",
    "mse"
   ]
  },
  {
   "cell_type": "code",
   "execution_count": 114,
   "metadata": {},
   "outputs": [
    {
     "data": {
      "text/plain": [
       "0.3985220933756157"
      ]
     },
     "execution_count": 114,
     "metadata": {},
     "output_type": "execute_result"
    }
   ],
   "source": [
    "#calculate RMSE\n",
    "math.sqrt(mse)"
   ]
  },
  {
   "cell_type": "markdown",
   "metadata": {},
   "source": [
    "**Validation using kFold cross validation**"
   ]
  },
  {
   "cell_type": "code",
   "execution_count": 115,
   "metadata": {},
   "outputs": [
    {
     "data": {
      "text/plain": [
       "array([-0.46843163, -0.44295506, -0.45614796, -0.43439296, -0.43048584,\n",
       "       -0.44122091, -0.41846714, -0.44886267, -0.48753383, -0.47863864])"
      ]
     },
     "execution_count": 115,
     "metadata": {},
     "output_type": "execute_result"
    }
   ],
   "source": [
    "# define loss function\n",
    "loss = 'neg_root_mean_squared_error'\n",
    "\n",
    "# create 10 fold CV object\n",
    "cv = KFold(n_splits=10, random_state=123, shuffle=True)\n",
    "\n",
    "# fit model with 10-fold CV\n",
    "scores = cross_val_score(m1, X_train_encoded, y_train, cv=cv, scoring=loss)\n",
    "scores"
   ]
  },
  {
   "cell_type": "code",
   "execution_count": 116,
   "metadata": {},
   "outputs": [
    {
     "data": {
      "text/plain": [
       "-0.45071366470017116"
      ]
     },
     "execution_count": 116,
     "metadata": {},
     "output_type": "execute_result"
    }
   ],
   "source": [
    "#averga eRMSE across 10 folds\n",
    "scores.mean()"
   ]
  },
  {
   "cell_type": "code",
   "execution_count": 117,
   "metadata": {},
   "outputs": [
    {
     "data": {
      "text/plain": [
       "array([-0.46843163, -0.44295506, -0.45614796, -0.43439296, -0.43048584,\n",
       "       -0.44122091, -0.41846714, -0.44886267, -0.48753383, -0.47863864,\n",
       "       -0.46699434, -0.45201438, -0.49812925, -0.44922841, -0.42253628,\n",
       "       -0.42866099, -0.45479276, -0.42809028, -0.44262774, -0.47775582,\n",
       "       -0.45952259, -0.40250255, -0.48622761, -0.45348041, -0.43737358,\n",
       "       -0.49040667, -0.45591175, -0.44692201, -0.44935508, -0.44888487,\n",
       "       -0.45157549, -0.48655076, -0.41657509, -0.46808425, -0.40517057,\n",
       "       -0.4396858 , -0.44567383, -0.47623056, -0.43511141, -0.48975346,\n",
       "       -0.43751071, -0.43328873, -0.47657355, -0.40956817, -0.45336284,\n",
       "       -0.46048285, -0.47056276, -0.44827435, -0.44983509, -0.48891511])"
      ]
     },
     "execution_count": 117,
     "metadata": {},
     "output_type": "execute_result"
    }
   ],
   "source": [
    "#RMSE vlaues across 50 folds\n",
    "rfk = RepeatedKFold(n_splits=10, n_repeats=5, random_state=123)\n",
    "rfk_scores = cross_val_score(m1, X_train_encoded, y_train, cv=rfk, scoring=loss)\n",
    "rfk_scores"
   ]
  },
  {
   "cell_type": "code",
   "execution_count": 118,
   "metadata": {},
   "outputs": [
    {
     "data": {
      "text/plain": [
       "-0.4520267877533462"
      ]
     },
     "execution_count": 118,
     "metadata": {},
     "output_type": "execute_result"
    }
   ],
   "source": [
    "#average RMSE across 50 folds\n",
    "rfk_scores.mean()"
   ]
  },
  {
   "cell_type": "markdown",
   "metadata": {},
   "source": [
    "**Hyperparameter tuning**"
   ]
  },
  {
   "cell_type": "code",
   "execution_count": 119,
   "metadata": {},
   "outputs": [
    {
     "data": {
      "text/plain": [
       "0.44084573091579815"
      ]
     },
     "execution_count": 119,
     "metadata": {},
     "output_type": "execute_result"
    }
   ],
   "source": [
    "#creating grid for GridSearch\n",
    "hyper_grid = {'n_neighbors': range(2, 26)}\n",
    "\n",
    "#tuning\n",
    "grid_search = GridSearchCV(knn, hyper_grid, cv=cv, scoring=loss)\n",
    "results = grid_search.fit(X_train_encoded, y_train)\n",
    "\n",
    "#best model's cross validated RMSE\n",
    "abs(results.best_score_)"
   ]
  },
  {
   "cell_type": "code",
   "execution_count": 120,
   "metadata": {},
   "outputs": [
    {
     "data": {
      "text/plain": [
       "6"
      ]
     },
     "execution_count": 120,
     "metadata": {},
     "output_type": "execute_result"
    }
   ],
   "source": [
    "# Best model's k\n",
    "results.best_estimator_.get_params().get('n_neighbors')"
   ]
  },
  {
   "cell_type": "code",
   "execution_count": 121,
   "metadata": {},
   "outputs": [
    {
     "data": {
      "image/png": "[encoded data removed]",
      "text/plain": [
       "<Figure size 640x480 with 1 Axes>"
      ]
     },
     "metadata": {},
     "output_type": "display_data"
    },
    {
     "data": {
      "text/plain": [
       "<ggplot: (8752241992494)>"
      ]
     },
     "execution_count": 121,
     "metadata": {},
     "output_type": "execute_result"
    }
   ],
   "source": [
    "# Plot RMSE results (notice best RMSE is 0.440845 at K = 6)\n",
    "all_rmse = pd.DataFrame({'k': range(2, 26), \n",
    "                         'RMSE': np.abs(results.cv_results_['mean_test_score'])})\n",
    "\n",
    "(ggplot(all_rmse, aes(x='k', y='RMSE'))\n",
    " + geom_line()\n",
    " + geom_point()\n",
    " + ggtitle(\"Cross validated grid search results\"))"
   ]
  }
 ],
 "metadata": {
  "interpreter": {
   "hash": "d4d1e4263499bec80672ea0156c357c1ee493ec2b1c70f0acce89fc37c4a6abe"
  },
  "kernelspec": {
   "display_name": "Python 3.8.8 ('base')",
   "language": "python",
   "name": "python3"
  },
  "language_info": {
   "codemirror_mode": {
    "name": "ipython",
    "version": 3
   },
   "file_extension": ".py",
   "mimetype": "text/x-python",
   "name": "python",
   "nbconvert_exporter": "python",
   "pygments_lexer": "ipython3",
   "version": "3.9.7"
  },
  "orig_nbformat": 4
 },
 "nbformat": 4,
 "nbformat_minor": 2
}
