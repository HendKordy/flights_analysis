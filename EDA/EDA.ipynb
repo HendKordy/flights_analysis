{
 "cells": [
  {
   "cell_type": "code",
   "execution_count": 1,
   "metadata": {},
   "outputs": [],
   "source": [
    "import numpy as np\n",
    "import pandas as pd\n",
    "import matplotlib.pyplot as plt\n",
    "import seaborn as sns"
   ]
  },
  {
   "cell_type": "code",
   "execution_count": 21,
   "metadata": {},
   "outputs": [],
   "source": [
    "df = pd.read_csv(\"../data_cleaning/df_cleaned.csv\")\n"
   ]
  },
  {
   "cell_type": "code",
   "execution_count": 22,
   "metadata": {},
   "outputs": [
    {
     "data": {
      "text/html": [
       "<div>\n",
       "<style scoped>\n",
       "    .dataframe tbody tr th:only-of-type {\n",
       "        vertical-align: middle;\n",
       "    }\n",
       "\n",
       "    .dataframe tbody tr th {\n",
       "        vertical-align: top;\n",
       "    }\n",
       "\n",
       "    .dataframe thead th {\n",
       "        text-align: right;\n",
       "    }\n",
       "</style>\n",
       "<table border=\"1\" class=\"dataframe\">\n",
       "  <thead>\n",
       "    <tr style=\"text-align: right;\">\n",
       "      <th></th>\n",
       "      <th>airline</th>\n",
       "      <th>embarked</th>\n",
       "      <th>destination</th>\n",
       "      <th>Route</th>\n",
       "      <th>stops</th>\n",
       "      <th>journey_year</th>\n",
       "      <th>journey_month</th>\n",
       "      <th>journey_day</th>\n",
       "      <th>weekday</th>\n",
       "      <th>dep_hour</th>\n",
       "      <th>...</th>\n",
       "      <th>departure_period</th>\n",
       "      <th>Arrival_hour</th>\n",
       "      <th>Arrival_min</th>\n",
       "      <th>arrival_period</th>\n",
       "      <th>Arrived_next_day</th>\n",
       "      <th>duration_hours</th>\n",
       "      <th>duration_mins</th>\n",
       "      <th>Duration_in_mins</th>\n",
       "      <th>price</th>\n",
       "      <th>additional_info</th>\n",
       "    </tr>\n",
       "  </thead>\n",
       "  <tbody>\n",
       "    <tr>\n",
       "      <th>0</th>\n",
       "      <td>IndiGo</td>\n",
       "      <td>Banglore</td>\n",
       "      <td>New Delhi</td>\n",
       "      <td>BLR → DEL</td>\n",
       "      <td>non-stop</td>\n",
       "      <td>2019</td>\n",
       "      <td>3</td>\n",
       "      <td>24</td>\n",
       "      <td>6</td>\n",
       "      <td>22</td>\n",
       "      <td>...</td>\n",
       "      <td>night</td>\n",
       "      <td>1</td>\n",
       "      <td>10</td>\n",
       "      <td>late night</td>\n",
       "      <td>True</td>\n",
       "      <td>2</td>\n",
       "      <td>50</td>\n",
       "      <td>170</td>\n",
       "      <td>3898</td>\n",
       "      <td>No info</td>\n",
       "    </tr>\n",
       "    <tr>\n",
       "      <th>1</th>\n",
       "      <td>Air India</td>\n",
       "      <td>Kolkata</td>\n",
       "      <td>Banglore</td>\n",
       "      <td>CCU → IXR → BBI → BLR</td>\n",
       "      <td>2 stops</td>\n",
       "      <td>2019</td>\n",
       "      <td>1</td>\n",
       "      <td>5</td>\n",
       "      <td>5</td>\n",
       "      <td>5</td>\n",
       "      <td>...</td>\n",
       "      <td>early morning</td>\n",
       "      <td>13</td>\n",
       "      <td>15</td>\n",
       "      <td>After noon</td>\n",
       "      <td>False</td>\n",
       "      <td>7</td>\n",
       "      <td>25</td>\n",
       "      <td>445</td>\n",
       "      <td>7663</td>\n",
       "      <td>No info</td>\n",
       "    </tr>\n",
       "    <tr>\n",
       "      <th>2</th>\n",
       "      <td>Jet Airways</td>\n",
       "      <td>Delhi</td>\n",
       "      <td>Cochin</td>\n",
       "      <td>DEL → LKO → BOM → COK</td>\n",
       "      <td>2 stops</td>\n",
       "      <td>2019</td>\n",
       "      <td>9</td>\n",
       "      <td>6</td>\n",
       "      <td>4</td>\n",
       "      <td>9</td>\n",
       "      <td>...</td>\n",
       "      <td>morning</td>\n",
       "      <td>4</td>\n",
       "      <td>25</td>\n",
       "      <td>late night</td>\n",
       "      <td>True</td>\n",
       "      <td>19</td>\n",
       "      <td>0</td>\n",
       "      <td>1140</td>\n",
       "      <td>13883</td>\n",
       "      <td>No info</td>\n",
       "    </tr>\n",
       "    <tr>\n",
       "      <th>3</th>\n",
       "      <td>IndiGo</td>\n",
       "      <td>Kolkata</td>\n",
       "      <td>Banglore</td>\n",
       "      <td>CCU → NAG → BLR</td>\n",
       "      <td>1 stop</td>\n",
       "      <td>2019</td>\n",
       "      <td>12</td>\n",
       "      <td>5</td>\n",
       "      <td>3</td>\n",
       "      <td>18</td>\n",
       "      <td>...</td>\n",
       "      <td>evening</td>\n",
       "      <td>23</td>\n",
       "      <td>30</td>\n",
       "      <td>night</td>\n",
       "      <td>False</td>\n",
       "      <td>5</td>\n",
       "      <td>25</td>\n",
       "      <td>325</td>\n",
       "      <td>6219</td>\n",
       "      <td>No info</td>\n",
       "    </tr>\n",
       "    <tr>\n",
       "      <th>4</th>\n",
       "      <td>IndiGo</td>\n",
       "      <td>Banglore</td>\n",
       "      <td>New Delhi</td>\n",
       "      <td>BLR → NAG → DEL</td>\n",
       "      <td>1 stop</td>\n",
       "      <td>2019</td>\n",
       "      <td>1</td>\n",
       "      <td>3</td>\n",
       "      <td>3</td>\n",
       "      <td>16</td>\n",
       "      <td>...</td>\n",
       "      <td>After noon</td>\n",
       "      <td>21</td>\n",
       "      <td>35</td>\n",
       "      <td>night</td>\n",
       "      <td>False</td>\n",
       "      <td>4</td>\n",
       "      <td>45</td>\n",
       "      <td>285</td>\n",
       "      <td>13303</td>\n",
       "      <td>No info</td>\n",
       "    </tr>\n",
       "  </tbody>\n",
       "</table>\n",
       "<p>5 rows × 21 columns</p>\n",
       "</div>"
      ],
      "text/plain": [
       "       airline  embarked destination                  Route     stops  \\\n",
       "0       IndiGo  Banglore   New Delhi              BLR → DEL  non-stop   \n",
       "1    Air India   Kolkata    Banglore  CCU → IXR → BBI → BLR   2 stops   \n",
       "2  Jet Airways     Delhi      Cochin  DEL → LKO → BOM → COK   2 stops   \n",
       "3       IndiGo   Kolkata    Banglore        CCU → NAG → BLR    1 stop   \n",
       "4       IndiGo  Banglore   New Delhi        BLR → NAG → DEL    1 stop   \n",
       "\n",
       "   journey_year  journey_month  journey_day  weekday  dep_hour  ...  \\\n",
       "0          2019              3           24        6        22  ...   \n",
       "1          2019              1            5        5         5  ...   \n",
       "2          2019              9            6        4         9  ...   \n",
       "3          2019             12            5        3        18  ...   \n",
       "4          2019              1            3        3        16  ...   \n",
       "\n",
       "   departure_period Arrival_hour  Arrival_min  arrival_period  \\\n",
       "0             night            1           10      late night   \n",
       "1     early morning           13           15      After noon   \n",
       "2           morning            4           25      late night   \n",
       "3           evening           23           30           night   \n",
       "4        After noon           21           35           night   \n",
       "\n",
       "  Arrived_next_day  duration_hours  duration_mins  Duration_in_mins  price  \\\n",
       "0             True               2             50               170   3898   \n",
       "1            False               7             25               445   7663   \n",
       "2             True              19              0              1140  13883   \n",
       "3            False               5             25               325   6219   \n",
       "4            False               4             45               285  13303   \n",
       "\n",
       "   additional_info  \n",
       "0          No info  \n",
       "1          No info  \n",
       "2          No info  \n",
       "3          No info  \n",
       "4          No info  \n",
       "\n",
       "[5 rows x 21 columns]"
      ]
     },
     "execution_count": 22,
     "metadata": {},
     "output_type": "execute_result"
    }
   ],
   "source": [
    "df.head()"
   ]
  },
  {
   "cell_type": "code",
   "execution_count": 23,
   "metadata": {},
   "outputs": [
    {
     "data": {
      "text/plain": [
       "(10462, 21)"
      ]
     },
     "execution_count": 23,
     "metadata": {},
     "output_type": "execute_result"
    }
   ],
   "source": [
    "df.shape"
   ]
  },
  {
   "cell_type": "code",
   "execution_count": 24,
   "metadata": {},
   "outputs": [
    {
     "data": {
      "text/plain": [
       "Index(['airline', 'embarked', 'destination', 'Route', 'stops', 'journey_year',\n",
       "       'journey_month', 'journey_day', 'weekday', 'dep_hour', 'dep_min',\n",
       "       'departure_period', 'Arrival_hour', 'Arrival_min', 'arrival_period',\n",
       "       'Arrived_next_day', 'duration_hours', 'duration_mins',\n",
       "       'Duration_in_mins', 'price', 'additional_info'],\n",
       "      dtype='object')"
      ]
     },
     "execution_count": 24,
     "metadata": {},
     "output_type": "execute_result"
    }
   ],
   "source": [
    "df.columns"
   ]
  },
  {
   "cell_type": "code",
   "execution_count": 25,
   "metadata": {},
   "outputs": [
    {
     "name": "stdout",
     "output_type": "stream",
     "text": [
      "<class 'pandas.core.frame.DataFrame'>\n",
      "RangeIndex: 10462 entries, 0 to 10461\n",
      "Data columns (total 21 columns):\n",
      " #   Column            Non-Null Count  Dtype \n",
      "---  ------            --------------  ----- \n",
      " 0   airline           10462 non-null  object\n",
      " 1   embarked          10462 non-null  object\n",
      " 2   destination       10462 non-null  object\n",
      " 3   Route             10462 non-null  object\n",
      " 4   stops             10462 non-null  object\n",
      " 5   journey_year      10462 non-null  int64 \n",
      " 6   journey_month     10462 non-null  int64 \n",
      " 7   journey_day       10462 non-null  int64 \n",
      " 8   weekday           10462 non-null  int64 \n",
      " 9   dep_hour          10462 non-null  int64 \n",
      " 10  dep_min           10462 non-null  int64 \n",
      " 11  departure_period  10462 non-null  object\n",
      " 12  Arrival_hour      10462 non-null  int64 \n",
      " 13  Arrival_min       10462 non-null  int64 \n",
      " 14  arrival_period    10462 non-null  object\n",
      " 15  Arrived_next_day  10462 non-null  bool  \n",
      " 16  duration_hours    10462 non-null  int64 \n",
      " 17  duration_mins     10462 non-null  int64 \n",
      " 18  Duration_in_mins  10462 non-null  int64 \n",
      " 19  price             10462 non-null  int64 \n",
      " 20  additional_info   10462 non-null  object\n",
      "dtypes: bool(1), int64(12), object(8)\n",
      "memory usage: 1.6+ MB\n"
     ]
    }
   ],
   "source": [
    "df.info()"
   ]
  },
  {
   "cell_type": "markdown",
   "metadata": {},
   "source": [
    "# Data Viz"
   ]
  },
  {
   "cell_type": "code",
   "execution_count": 120,
   "metadata": {},
   "outputs": [
    {
     "data": {
      "text/plain": [
       "Jet Airways                          3700\n",
       "IndiGo                               2043\n",
       "Air India                            1694\n",
       "Multiple carriers                    1196\n",
       "SpiceJet                              815\n",
       "Vistara                               478\n",
       "Air Asia                              319\n",
       "GoAir                                 194\n",
       "Multiple carriers Premium economy      13\n",
       "Jet Airways Business                    6\n",
       "Vistara Premium economy                 3\n",
       "Trujet                                  1\n",
       "Name: airline, dtype: int64"
      ]
     },
     "execution_count": 120,
     "metadata": {},
     "output_type": "execute_result"
    }
   ],
   "source": [
    "# Getting a look at the airlines, to see if some airline is over repsented which could lead to bias\n",
    "df.airline.value_counts()"
   ]
  },
  {
   "cell_type": "code",
   "execution_count": null,
   "metadata": {},
   "outputs": [],
   "source": [
    "# Visualize what did\n",
    "AL  = df['airline'].value_counts()\n",
    "AL = AL[:9,]\n",
    "fig = plt.figure()\n",
    "ax = fig.add_axes([0,0,1,1])\n",
    "ax.bar(AL.index,AL.values)\n",
    "# plt.show()"
   ]
  },
  {
   "cell_type": "code",
   "execution_count": null,
   "metadata": {},
   "outputs": [],
   "source": [
    "fig = plt.figure(figsize = (10, 5))\n",
    "AL  = df['airline'].value_counts()\n",
    "AL = AL[:9,]\n",
    "# creating the bar plot\n",
    "plt.bar(AL.index, AL.values, color ='maroon',\n",
    "        width = 0.4)\n",
    " \n",
    "plt.xlabel('airline')\n",
    "plt.ylabel('Number of Flights')\n",
    "plt.title('Flights Per Airline')\n",
    "# plt.show()"
   ]
  },
  {
   "cell_type": "code",
   "execution_count": 123,
   "metadata": {},
   "outputs": [
    {
     "name": "stderr",
     "output_type": "stream",
     "text": [
      "/opt/conda/lib/python3.9/site-packages/seaborn/_decorators.py:36: FutureWarning: Pass the following variables as keyword args: x, y. From version 0.12, the only valid positional argument will be `data`, and passing other arguments without an explicit keyword will result in an error or misinterpretation.\n",
      "  warnings.warn(\n"
     ]
    },
    {
     "data": {
      "image/png": "[encoded data removed]",
      "text/plain": [
       "<Figure size 720x360 with 1 Axes>"
      ]
     },
     "metadata": {
      "needs_background": "light"
     },
     "output_type": "display_data"
    }
   ],
   "source": [
    "AL  = df['airline'].value_counts()\n",
    "AL = AL[:9,]\n",
    "plt.figure(figsize=(10,5))\n",
    "sns.barplot(AL.index, AL.values, alpha=0.8)\n",
    "plt.title('Flights Per Airline')\n",
    "plt.ylabel('Number of Flights', fontsize=12)\n",
    "plt.xlabel('Airline', fontsize=3)\n",
    "plt.show()"
   ]
  }
 ],
 "metadata": {
  "interpreter": {
   "hash": "d4d1e4263499bec80672ea0156c357c1ee493ec2b1c70f0acce89fc37c4a6abe"
  },
  "kernelspec": {
   "display_name": "Python 3.8.8 ('base')",
   "language": "python",
   "name": "python3"
  },
  "language_info": {
   "codemirror_mode": {
    "name": "ipython",
    "version": 3
   },
   "file_extension": ".py",
   "mimetype": "text/x-python",
   "name": "python",
   "nbconvert_exporter": "python",
   "pygments_lexer": "ipython3",
   "version": "3.9.7"
  },
  "orig_nbformat": 4
 },
 "nbformat": 4,
 "nbformat_minor": 2
}
